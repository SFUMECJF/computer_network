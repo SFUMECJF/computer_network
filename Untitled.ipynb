{
 "cells": [
  {
   "cell_type": "markdown",
   "metadata": {},
   "source": [
    "##  交流\n",
    "- 年级：大二计算机专业\n",
    "\n",
    "-同学基础：较薄弱\n",
    "同学目的：过这门课。 4小时，\n",
    "后续安排：20小时远远不够，以lab为重点，\n",
    "同学时差：国内，快两小时。\n",
    "什么时间方便：我希望是工作日晚上或者周六日晚上，\n",
    "\n",
    "讲师概述：\n",
    "多次辅导经验\n",
    "- 迈阿密大学\n",
    "- python\n",
    "- 软件工程"
   ]
  },
  {
   "cell_type": "markdown",
   "metadata": {},
   "source": [
    "##  概述\n",
    "\n",
    "\n",
    "###  教材\n",
    "《计算机网络自顶向下》第7版\n",
    "\n",
    "英文版教材在本地Computer Networking A Top-Down Approach.pdf\n",
    "[中文教材下载地址](https://hk1lib.org/book/5641846/d0a601)\n",
    "\n",
    "###  学习方式\n",
    "这个老师的课口音听不大清，建议通过国内网课学习，知识和教材一模一样，因为这个教材太经典了。\n",
    "- 国内网课：[b站中科大网课](https://www.bilibili.com/video/BV1JV411t7ow?from=search&seid=10555746702288877260)，[湖科大教书匠网课]()\n",
    "- lab反馈\n",
    "- ed讨论\n",
    "\n",
    "\n",
    "###  考核\n",
    "lab6选5个最高分\n",
    "两类的lab？\n",
    "\n",
    "\n",
    "`python!!!`\n",
    "\n",
    "原因：\n",
    "1. 更简单的代码\n",
    "\n",
    "c++可能在网络编程中更加常用\n"
   ]
  },
  {
   "cell_type": "markdown",
   "metadata": {},
   "source": [
    "讲课内容：\n",
    "- 涉及到的python\n",
    "- lab中涉及到的课件内容\n",
    "- lab"
   ]
  },
  {
   "cell_type": "markdown",
   "metadata": {},
   "source": [
    "##  python\n",
    "\n",
    "环境以及如何使用（经验之谈）\n",
    "pycharm + anaconda\n",
    "[任务：看完这个视频](https://www.bilibili.com/video/BV1K7411c7EL?from=search&seid=14658995767979021844)\n",
    "前人写好的代码，我们可以直接用！ 这种代码就叫做  库\n",
    "anaconda帮助用户使用多个版本的库。\n",
    "pycharm 就是实际编写代码的工具。就是在文件里写代码，但是：代码补全、代码风格检查等功能。\n",
    "\n",
    "list  set tuple  dict\n",
    "str  -->  list\n",
    "\"I love dog\"    -- >   [\"I\", \"Love\", \"dog\"]"
   ]
  },
  {
   "cell_type": "markdown",
   "metadata": {},
   "source": [
    "##  lab  \n",
    "\n",
    "\n",
    "\n",
    "[ssh教程链接](https://taggi.cse.unsw.edu.au/FAQ/Logging_In_With_SSH/)\n",
    "[putty]()\n",
    "\n",
    "login.cse.unsw.edu.au\n",
    "z5173554\n",
    "Ning1027\n",
    "\n",
    "\n",
    "\n",
    "`!ssh z5173554@login.cse.unsw.edu.au`"
   ]
  },
  {
   "cell_type": "code",
   "execution_count": 2,
   "metadata": {},
   "outputs": [
    {
     "ename": "SyntaxError",
     "evalue": "invalid syntax (<ipython-input-2-8e1e1d971bfa>, line 3)",
     "output_type": "error",
     "traceback": [
      "\u001B[1;36m  File \u001B[1;32m\"<ipython-input-2-8e1e1d971bfa>\"\u001B[1;36m, line \u001B[1;32m3\u001B[0m\n\u001B[1;33m    wagner % nslookup www.koala.com.au\u001B[0m\n\u001B[1;37m                        ^\u001B[0m\n\u001B[1;31mSyntaxError\u001B[0m\u001B[1;31m:\u001B[0m invalid syntax\n"
     ]
    }
   ],
   "source": [
    "#  exercise  1\n",
    "\n",
    "\n",
    "wagner % nslookup www.koala.com.au\n",
    "Server:         129.94.242.2\n",
    "Address:        129.94.242.2#53\n",
    "\n",
    "Non-authoritative answer:\n",
    "Name:   www.koala.com.au\n",
    "Address: 104.21.45.210\n",
    "Name:   www.koala.com.au\n",
    "Address: 172.67.219.46\n",
    "\n",
    "''' It has two modes: interactive and non-interactive. Interactive mode is used to get information \n",
    "about various hosts and domains or to displays a list of hosts in a domain. Non-interactive mode \n",
    "is used to display just the name and requested information for a host or domain.'''\n",
    "域名被部署到了多个服务器上，每个服务器都有一个ip地址，当我们输入`www.koala.com.au`,DNS自动找到一个负载不那么大的服务器上。\n",
    "\n",
    "\n",
    "127.0.0.1又称`localhost`，通常作为测试的目的。不是一个外部可以访问的ip"
   ]
  },
  {
   "cell_type": "code",
   "execution_count": null,
   "metadata": {},
   "outputs": [],
   "source": [
    "##  课件"
   ]
  },
  {
   "cell_type": "markdown",
   "source": [
    "##  任务\n",
    "1. 看完[任务：看完这个视频](https://www.bilibili.com/video/BV1K7411c7EL?from=search&seid=14658995767979021844)\n",
    "2. 尽力看1.1~1.4：[湖科大](https://www.bilibili.com/video/BV1c4411d7jb?from=search&seid=18202965770567668703)"
   ],
   "metadata": {
    "collapsed": false,
    "pycharm": {
     "name": "#%% md\n"
    }
   }
  },
  {
   "cell_type": "markdown",
   "source": [
    "下次任务 ：\n",
    "- 谷歌的习惯\n",
    "- 剩下的lab"
   ],
   "metadata": {
    "collapsed": false,
    "pycharm": {
     "name": "#%% md\n"
    }
   }
  }
 ],
 "metadata": {
  "kernelspec": {
   "display_name": "Python 3",
   "language": "python",
   "name": "python3"
  },
  "language_info": {
   "codemirror_mode": {
    "name": "ipython",
    "version": 3
   },
   "file_extension": ".py",
   "mimetype": "text/x-python",
   "name": "python",
   "nbconvert_exporter": "python",
   "pygments_lexer": "ipython3",
   "version": "3.6.5"
  }
 },
 "nbformat": 4,
 "nbformat_minor": 4
}